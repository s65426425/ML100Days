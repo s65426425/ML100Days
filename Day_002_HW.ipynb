{
 "cells": [
  {
   "cell_type": "markdown",
   "metadata": {},
   "source": [
    "# 思考題_請找出一個你認為機器學習可以發光發熱的領域並闡述原因?\n",
    "我覺得機器學習在增強式學習的應用，棋類可以有非常良好的發展，AlphaGo在2016年擊敗李世乭後，更是讓世界都震驚了，現在也推出更多種的人工智慧來下棋，在人工智慧出現後，對圍棋界產生很大的影響，人工智慧改變了人們對圍棋上限的認知，改變棋手的思維，往往出現驚人的下法，現在也推翻了長久以來最基本的定石，人們慢慢學習這些人工智慧的下法。所以我認為機器人透過增強式學習的⽅式訓練，可以增加人類的對手，並帶給人類革新，必定可以擁有更加輝煌的結果。"
   ]
  }
 ],
 "metadata": {
  "kernelspec": {
   "display_name": "Python 3",
   "language": "python",
   "name": "python3"
  },
  "language_info": {
   "codemirror_mode": {
    "name": "ipython",
    "version": 3
   },
   "file_extension": ".py",
   "mimetype": "text/x-python",
   "name": "python",
   "nbconvert_exporter": "python",
   "pygments_lexer": "ipython3",
   "version": "3.7.6"
  }
 },
 "nbformat": 4,
 "nbformat_minor": 4
}
