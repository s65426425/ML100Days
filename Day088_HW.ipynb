{
 "cells": [
  {
   "cell_type": "markdown",
   "metadata": {},
   "source": [
    "## Work\n",
    "1. 請嘗試寫一個 callback 用來記錄各類別在訓練過程中，對驗證集的 True Positive 與 True Negative"
   ]
  },
  {
   "cell_type": "code",
   "execution_count": 1,
   "metadata": {},
   "outputs": [],
   "source": [
    "import os\n",
    "import keras\n",
    "\n",
    "# Disable GPU\n",
    "os.environ[\"CUDA_VISIBLE_DEVICES\"] = \"\""
   ]
  },
  {
   "cell_type": "code",
   "execution_count": 2,
   "metadata": {},
   "outputs": [],
   "source": [
    "train, test = keras.datasets.cifar10.load_data()"
   ]
  },
  {
   "cell_type": "code",
   "execution_count": 3,
   "metadata": {},
   "outputs": [],
   "source": [
    "## 資料前處理\n",
    "def preproc_x(x, flatten=True):\n",
    "    x = x / 255.\n",
    "    if flatten:\n",
    "        x = x.reshape((len(x), -1))\n",
    "    return x\n",
    "\n",
    "def preproc_y(y, num_classes=10):\n",
    "    if y.shape[-1] == 1:\n",
    "        y = keras.utils.to_categorical(y, num_classes)\n",
    "    return y    "
   ]
  },
  {
   "cell_type": "code",
   "execution_count": 4,
   "metadata": {},
   "outputs": [],
   "source": [
    "x_train, y_train = train\n",
    "x_test, y_test = test\n",
    "\n",
    "# Preproc the inputs\n",
    "x_train = preproc_x(x_train)\n",
    "x_test = preproc_x(x_test)\n",
    "\n",
    "# Preprc the outputs\n",
    "y_train = preproc_y(y_train)\n",
    "y_test = preproc_y(y_test)"
   ]
  },
  {
   "cell_type": "code",
   "execution_count": 5,
   "metadata": {},
   "outputs": [],
   "source": [
    "from keras.layers import BatchNormalization\n",
    "\n",
    "\"\"\"\n",
    "建立神經網路，並加入 BN layer\n",
    "\"\"\"\n",
    "def build_mlp(input_shape, output_units=10, num_neurons=[512, 256, 128]):\n",
    "    input_layer = keras.layers.Input(input_shape)\n",
    "    \n",
    "    for i, n_units in enumerate(num_neurons):\n",
    "        if i == 0:\n",
    "            x = keras.layers.Dense(units=n_units, \n",
    "                                   activation=\"relu\", \n",
    "                                   name=\"hidden_layer\"+str(i+1))(input_layer)\n",
    "            x = BatchNormalization()(x)\n",
    "        else:\n",
    "            x = keras.layers.Dense(units=n_units, \n",
    "                                   activation=\"relu\", \n",
    "                                   name=\"hidden_layer\"+str(i+1))(x)\n",
    "            x = BatchNormalization()(x)\n",
    "    \n",
    "    out = keras.layers.Dense(units=output_units, activation=\"softmax\", name=\"output\")(x)\n",
    "    \n",
    "    model = keras.models.Model(inputs=[input_layer], outputs=[out])\n",
    "    return model"
   ]
  },
  {
   "cell_type": "code",
   "execution_count": 6,
   "metadata": {},
   "outputs": [],
   "source": [
    "## 超參數設定\n",
    "LEARNING_RATE = 1e-3\n",
    "EPOCHS = 25\n",
    "BATCH_SIZE = 1024\n",
    "MOMENTUM = 0.95"
   ]
  },
  {
   "cell_type": "code",
   "execution_count": 7,
   "metadata": {},
   "outputs": [],
   "source": [
    "# 載入 Callbacks\n",
    "from keras.callbacks import Callback\n",
    "\n",
    "# Record_fp_tp\n",
    "class Record_tp_tn(Callback):\n",
    "    \"\"\"Code Here\n",
    "    撰寫一個紀錄 true positive 與 true negative 數量的 callbacks    \n",
    "    \"\"\"\n",
    "    def __init__(self, val_data=(x_test, y_test)):\n",
    "        self.validation_data = val_data\n",
    "    def on_train_begin(self, epoch, logs = {}):\n",
    "        logs = logs or {}\n",
    "        record_items = [\"val_tp\", \"val_tn\"]\n",
    "        for i in record_items:\n",
    "            try:\n",
    "                if i not in self.params['metrics']:\n",
    "                    self.params['metrics'].append(i)\n",
    "            except:\n",
    "                self.params['metrics']=i\n",
    "    \n",
    "    def on_epoch_end(self, epoch, logs = {}, thres=0.5):\n",
    "        logs = logs or {}\n",
    "        y_true = self.validation_data[1].argmax(axis = 1)\n",
    "        y_pred = self.model.predict(self.validation_data[0])\n",
    "        y_pred = (y_pred[:, 1] >= thres) * 1\n",
    "        \n",
    "        val_tp = sum(y_true*y_pred)\n",
    "        val_tn = sum((y_true==0) & (y_pred==0))\n",
    "        \n",
    "        logs[\"val_tp\"] = val_tp\n",
    "        logs[\"val_tn\"] = val_tn\n",
    "        \n",
    "rec_tptn = Record_tp_tn()"
   ]
  },
  {
   "cell_type": "code",
   "execution_count": 8,
   "metadata": {
    "scrolled": true
   },
   "outputs": [
    {
     "name": "stdout",
     "output_type": "stream",
     "text": [
      "Model: \"functional_1\"\n",
      "_________________________________________________________________\n",
      "Layer (type)                 Output Shape              Param #   \n",
      "=================================================================\n",
      "input_1 (InputLayer)         [(None, 3072)]            0         \n",
      "_________________________________________________________________\n",
      "hidden_layer1 (Dense)        (None, 512)               1573376   \n",
      "_________________________________________________________________\n",
      "batch_normalization (BatchNo (None, 512)               2048      \n",
      "_________________________________________________________________\n",
      "hidden_layer2 (Dense)        (None, 256)               131328    \n",
      "_________________________________________________________________\n",
      "batch_normalization_1 (Batch (None, 256)               1024      \n",
      "_________________________________________________________________\n",
      "hidden_layer3 (Dense)        (None, 128)               32896     \n",
      "_________________________________________________________________\n",
      "batch_normalization_2 (Batch (None, 128)               512       \n",
      "_________________________________________________________________\n",
      "output (Dense)               (None, 10)                1290      \n",
      "=================================================================\n",
      "Total params: 1,742,474\n",
      "Trainable params: 1,740,682\n",
      "Non-trainable params: 1,792\n",
      "_________________________________________________________________\n",
      "Epoch 1/25\n",
      "49/49 [==============================] - 13s 264ms/step - loss: 2.1981 - accuracy: 0.2762 - val_loss: 2.1636 - val_accuracy: 0.2069\n",
      "Epoch 2/25\n",
      "49/49 [==============================] - 7s 139ms/step - loss: 1.7385 - accuracy: 0.3940 - val_loss: 1.9669 - val_accuracy: 0.2877\n",
      "Epoch 3/25\n",
      "49/49 [==============================] - 7s 143ms/step - loss: 1.6150 - accuracy: 0.4342 - val_loss: 1.8077 - val_accuracy: 0.3645\n",
      "Epoch 4/25\n",
      "49/49 [==============================] - 8s 166ms/step - loss: 1.5431 - accuracy: 0.4589 - val_loss: 1.7068 - val_accuracy: 0.4110\n",
      "Epoch 5/25\n",
      "49/49 [==============================] - 7s 142ms/step - loss: 1.4886 - accuracy: 0.4784 - val_loss: 1.6407 - val_accuracy: 0.4332\n",
      "Epoch 6/25\n",
      "49/49 [==============================] - 7s 144ms/step - loss: 1.4418 - accuracy: 0.4945 - val_loss: 1.5767 - val_accuracy: 0.4394\n",
      "Epoch 7/25\n",
      "49/49 [==============================] - 7s 139ms/step - loss: 1.4044 - accuracy: 0.5101 - val_loss: 1.5305 - val_accuracy: 0.4619\n",
      "Epoch 8/25\n",
      "49/49 [==============================] - 7s 151ms/step - loss: 1.3708 - accuracy: 0.5222 - val_loss: 1.5272 - val_accuracy: 0.4615\n",
      "Epoch 9/25\n",
      "49/49 [==============================] - 7s 144ms/step - loss: 1.3392 - accuracy: 0.5334 - val_loss: 1.4856 - val_accuracy: 0.4732\n",
      "Epoch 10/25\n",
      "49/49 [==============================] - 7s 143ms/step - loss: 1.3095 - accuracy: 0.5441 - val_loss: 1.4868 - val_accuracy: 0.4711\n",
      "Epoch 11/25\n",
      "49/49 [==============================] - 7s 143ms/step - loss: 1.2811 - accuracy: 0.5534 - val_loss: 1.4727 - val_accuracy: 0.4817\n",
      "Epoch 12/25\n",
      "49/49 [==============================] - 7s 143ms/step - loss: 1.2567 - accuracy: 0.5638 - val_loss: 1.4710 - val_accuracy: 0.4842\n",
      "Epoch 13/25\n",
      "49/49 [==============================] - 7s 146ms/step - loss: 1.2289 - accuracy: 0.5747 - val_loss: 1.4522 - val_accuracy: 0.4906\n",
      "Epoch 14/25\n",
      "49/49 [==============================] - 7s 146ms/step - loss: 1.2037 - accuracy: 0.5829 - val_loss: 1.4480 - val_accuracy: 0.4921\n",
      "Epoch 15/25\n",
      "49/49 [==============================] - 7s 143ms/step - loss: 1.1810 - accuracy: 0.5914 - val_loss: 1.4474 - val_accuracy: 0.4912\n",
      "Epoch 16/25\n",
      "49/49 [==============================] - 7s 149ms/step - loss: 1.1594 - accuracy: 0.5988 - val_loss: 1.4436 - val_accuracy: 0.4991\n",
      "Epoch 17/25\n",
      "49/49 [==============================] - 7s 145ms/step - loss: 1.1362 - accuracy: 0.6094 - val_loss: 1.4547 - val_accuracy: 0.4907\n",
      "Epoch 18/25\n",
      "49/49 [==============================] - 7s 145ms/step - loss: 1.1144 - accuracy: 0.6171 - val_loss: 1.4454 - val_accuracy: 0.4949\n",
      "Epoch 19/25\n",
      "49/49 [==============================] - 7s 144ms/step - loss: 1.0933 - accuracy: 0.6257 - val_loss: 1.4503 - val_accuracy: 0.4920\n",
      "Epoch 20/25\n",
      "49/49 [==============================] - 7s 143ms/step - loss: 1.0732 - accuracy: 0.6333 - val_loss: 1.4496 - val_accuracy: 0.4904\n",
      "Epoch 21/25\n",
      "49/49 [==============================] - 7s 145ms/step - loss: 1.0514 - accuracy: 0.6425 - val_loss: 1.4397 - val_accuracy: 0.4959\n",
      "Epoch 22/25\n",
      "49/49 [==============================] - 7s 145ms/step - loss: 1.0307 - accuracy: 0.6495 - val_loss: 1.4511 - val_accuracy: 0.4977\n",
      "Epoch 23/25\n",
      "49/49 [==============================] - 7s 145ms/step - loss: 1.0097 - accuracy: 0.6563 - val_loss: 1.4454 - val_accuracy: 0.4949\n",
      "Epoch 24/25\n",
      "49/49 [==============================] - 7s 146ms/step - loss: 0.9905 - accuracy: 0.6649 - val_loss: 1.4630 - val_accuracy: 0.4935\n",
      "Epoch 25/25\n",
      "49/49 [==============================] - 7s 144ms/step - loss: 0.9698 - accuracy: 0.6727 - val_loss: 1.4522 - val_accuracy: 0.4932\n"
     ]
    }
   ],
   "source": [
    "model = build_mlp(input_shape=x_train.shape[1:])\n",
    "model.summary()\n",
    "optimizer = keras.optimizers.SGD(lr=LEARNING_RATE, nesterov=True, momentum=MOMENTUM)\n",
    "model.compile(loss=\"categorical_crossentropy\", metrics=[\"accuracy\"], optimizer=optimizer)\n",
    "\n",
    "\"\"\"Code Here\n",
    "將 callbacks 放入模型訓練流程中\n",
    "\"\"\"\n",
    "model.fit(x_train, y_train ,\n",
    "          batch_size=BATCH_SIZE,\n",
    "          epochs=EPOCHS,\n",
    "          validation_data=(x_test, y_test),\n",
    "          callbacks=[rec_tptn])\n",
    "\n",
    "# Collect results\n",
    "train_loss = model.history.history[\"loss\"]\n",
    "valid_loss = model.history.history[\"val_loss\"]\n",
    "train_acc = model.history.history[\"accuracy\"]\n",
    "valid_acc = model.history.history[\"val_accuracy\"]\n",
    "\n",
    "\"\"\"Code Here\n",
    "將 tp/tn 從訓練完的模型中取出\n",
    "\"\"\"\n",
    "valid_tp = model.history.history['val_tp']\n",
    "valid_tn = model.history.history['val_tn']"
   ]
  },
  {
   "cell_type": "code",
   "execution_count": 9,
   "metadata": {},
   "outputs": [
    {
     "data": {
      "image/png": "[encoded data removed]",
      "text/plain": [
       "<Figure size 432x288 with 1 Axes>"
      ]
     },
     "metadata": {
      "needs_background": "light"
     },
     "output_type": "display_data"
    },
    {
     "data": {
      "image/png": "[encoded data removed]",
      "text/plain": [
       "<Figure size 432x288 with 1 Axes>"
      ]
     },
     "metadata": {
      "needs_background": "light"
     },
     "output_type": "display_data"
    },
    {
     "data": {
      "image/png": "[encoded data removed]",
      "text/plain": [
       "<Figure size 432x288 with 1 Axes>"
      ]
     },
     "metadata": {
      "needs_background": "light"
     },
     "output_type": "display_data"
    }
   ],
   "source": [
    "import matplotlib.pyplot as plt\n",
    "%matplotlib inline\n",
    "\n",
    "plt.plot(range(len(train_loss)), train_loss, label=\"train loss\")\n",
    "plt.plot(range(len(valid_loss)), valid_loss, label=\"valid loss\")\n",
    "plt.legend()\n",
    "plt.title(\"Loss\")\n",
    "plt.show()\n",
    "\n",
    "plt.plot(range(len(train_acc)), train_acc, label=\"train accuracy\")\n",
    "plt.plot(range(len(valid_acc)), valid_acc, label=\"valid accuracy\")\n",
    "plt.legend()\n",
    "plt.title(\"Accuracy\")\n",
    "plt.show()\n",
    "\n",
    "plt.plot(range(len(valid_tp)), valid_tp, label=\"valid tp\", color=\"navy\")\n",
    "plt.plot(range(len(valid_tn)), valid_tn, label=\"valid tn\", color=\"red\")\n",
    "plt.legend()\n",
    "plt.title(\"True positives and True Negatives\")\n",
    "plt.show()\n"
   ]
  }
 ],
 "metadata": {
  "kernelspec": {
   "display_name": "Python 3",
   "language": "python",
   "name": "python3"
  },
  "language_info": {
   "codemirror_mode": {
    "name": "ipython",
    "version": 3
   },
   "file_extension": ".py",
   "mimetype": "text/x-python",
   "name": "python",
   "nbconvert_exporter": "python",
   "pygments_lexer": "ipython3",
   "version": "3.7.6"
  }
 },
 "nbformat": 4,
 "nbformat_minor": 2
}
