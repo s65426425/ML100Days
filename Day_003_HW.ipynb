{
 "cells": [
  {
   "cell_type": "code",
   "execution_count": null,
   "metadata": {},
   "outputs": [],
   "source": [
    "請至以下機器學習巨頭的 blog 參觀，試著閱讀一篇文章並分析其 \n",
    "https://research.fb.com/blog/2020/04/understanding-social-comparison-on-facebook/\n",
    "作業 1：目標\n",
    "了解人們在Facebook社交上進行比較的頻率，哪些比較得頻率更多？以及在社交上進行比較而感到不適的經驗。\n",
    "作業 2：方法\n",
    "對來自18個國家/地區的37,000人進行了在線調查，詢問他們由於Facebook上的社交上進行比較而感到不適的頻率。\n",
    "作業 3：資料來源 \n",
    "Facebook Research"
   ]
  }
 ],
 "metadata": {
  "kernelspec": {
   "display_name": "Python 3",
   "language": "python",
   "name": "python3"
  },
  "language_info": {
   "codemirror_mode": {
    "name": "ipython",
    "version": 3
   },
   "file_extension": ".py",
   "mimetype": "text/x-python",
   "name": "python",
   "nbconvert_exporter": "python",
   "pygments_lexer": "ipython3",
   "version": "3.7.6"
  }
 },
 "nbformat": 4,
 "nbformat_minor": 4
}
