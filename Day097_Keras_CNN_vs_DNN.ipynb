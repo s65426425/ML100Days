{
 "cells": [
  {
   "cell_type": "code",
   "execution_count": 1,
   "metadata": {},
   "outputs": [],
   "source": [
    "import keras\n",
    "from keras.datasets import cifar10\n",
    "from keras.preprocessing.image import ImageDataGenerator\n",
    "from keras.models import Sequential\n",
    "from keras.layers import Dense, Dropout, Activation, Flatten\n",
    "from keras.layers import Conv2D, MaxPooling2D\n",
    "from keras.optimizers import RMSprop, Adam\n",
    "import os"
   ]
  },
  {
   "cell_type": "code",
   "execution_count": 2,
   "metadata": {},
   "outputs": [
    {
     "name": "stdout",
     "output_type": "stream",
     "text": [
      "x_train shape: (50000, 32, 32, 3)\n",
      "50000 train samples\n",
      "10000 test samples\n"
     ]
    }
   ],
   "source": [
    "batch_size = 128 # batch 的大小，如果出現 OOM error，請降低這個值\n",
    "num_classes = 10 # 類別的數量，Cifar 10 共有 10 個類別\n",
    "epochs = 15 # 訓練的 epochs 數量\n",
    "\n",
    "# 讀取資料並檢視\n",
    "(x_train, y_train), (x_test, y_test) = cifar10.load_data()\n",
    "print('x_train shape:', x_train.shape)\n",
    "print(x_train.shape[0], 'train samples')\n",
    "print(x_test.shape[0], 'test samples')\n",
    "\n",
    "# 對 label 進行 one-hot encoding (y_trian 原本是純數字)\n",
    "y_train = keras.utils.to_categorical(y_train, num_classes)\n",
    "y_test = keras.utils.to_categorical(y_test, num_classes)"
   ]
  },
  {
   "cell_type": "markdown",
   "metadata": {},
   "source": [
    "## 首先我們使用一般的 DNN (MLP) 來訓練\n",
    "由於 DNN 只能輸入一維的資料，我們要先將影像進行攤平，若 (50000, 32, 32, 3) 的影像，攤平後會變成 (50000, 32*32*3) = (50000, 3072)"
   ]
  },
  {
   "cell_type": "code",
   "execution_count": 3,
   "metadata": {},
   "outputs": [
    {
     "name": "stdout",
     "output_type": "stream",
     "text": [
      "50000 train samples\n",
      "10000 test samples\n"
     ]
    }
   ],
   "source": [
    "# 將資料攤平成一維資料\n",
    "x_train = x_train.reshape(50000, 3072) \n",
    "x_test = x_test.reshape(10000, 3072)\n",
    "\n",
    "# 將資料變為 float32 並標準化\n",
    "x_train = x_train.astype('float32')\n",
    "x_test = x_test.astype('float32')\n",
    "x_train /= 255\n",
    "x_test /= 255\n",
    "print(x_train.shape[0], 'train samples')\n",
    "print(x_test.shape[0], 'test samples')"
   ]
  },
  {
   "cell_type": "code",
   "execution_count": 4,
   "metadata": {},
   "outputs": [
    {
     "name": "stdout",
     "output_type": "stream",
     "text": [
      "Model: \"sequential\"\n",
      "_________________________________________________________________\n",
      "Layer (type)                 Output Shape              Param #   \n",
      "=================================================================\n",
      "dense (Dense)                (None, 512)               1573376   \n",
      "_________________________________________________________________\n",
      "dropout (Dropout)            (None, 512)               0         \n",
      "_________________________________________________________________\n",
      "dense_1 (Dense)              (None, 512)               262656    \n",
      "_________________________________________________________________\n",
      "dropout_1 (Dropout)          (None, 512)               0         \n",
      "_________________________________________________________________\n",
      "dense_2 (Dense)              (None, 10)                5130      \n",
      "=================================================================\n",
      "Total params: 1,841,162\n",
      "Trainable params: 1,841,162\n",
      "Non-trainable params: 0\n",
      "_________________________________________________________________\n",
      "Epoch 1/15\n",
      "391/391 [==============================] - 19s 48ms/step - loss: 2.1546 - accuracy: 0.2482 - val_loss: 1.8491 - val_accuracy: 0.3272\n",
      "Epoch 2/15\n",
      "391/391 [==============================] - 19s 48ms/step - loss: 1.8543 - accuracy: 0.3322 - val_loss: 1.7658 - val_accuracy: 0.3571\n",
      "Epoch 3/15\n",
      "391/391 [==============================] - 19s 49ms/step - loss: 1.7731 - accuracy: 0.3621 - val_loss: 1.6782 - val_accuracy: 0.3955\n",
      "Epoch 4/15\n",
      "391/391 [==============================] - 19s 49ms/step - loss: 1.7207 - accuracy: 0.3861 - val_loss: 1.7044 - val_accuracy: 0.4005\n",
      "Epoch 5/15\n",
      "391/391 [==============================] - 20s 51ms/step - loss: 1.6856 - accuracy: 0.3994 - val_loss: 1.6058 - val_accuracy: 0.4308\n",
      "Epoch 6/15\n",
      "391/391 [==============================] - 20s 51ms/step - loss: 1.6540 - accuracy: 0.4048 - val_loss: 1.6019 - val_accuracy: 0.4276\n",
      "Epoch 7/15\n",
      "391/391 [==============================] - 20s 51ms/step - loss: 1.6340 - accuracy: 0.4167 - val_loss: 1.5802 - val_accuracy: 0.4376\n",
      "Epoch 8/15\n",
      "391/391 [==============================] - 20s 51ms/step - loss: 1.6110 - accuracy: 0.4241 - val_loss: 1.5624 - val_accuracy: 0.4534\n",
      "Epoch 9/15\n",
      "391/391 [==============================] - 21s 53ms/step - loss: 1.6004 - accuracy: 0.4272 - val_loss: 1.6203 - val_accuracy: 0.4111\n",
      "Epoch 10/15\n",
      "391/391 [==============================] - 21s 53ms/step - loss: 1.5859 - accuracy: 0.4317 - val_loss: 1.5484 - val_accuracy: 0.4526\n",
      "Epoch 11/15\n",
      "391/391 [==============================] - 22s 55ms/step - loss: 1.5750 - accuracy: 0.4393 - val_loss: 1.5248 - val_accuracy: 0.4687\n",
      "Epoch 12/15\n",
      "391/391 [==============================] - 21s 55ms/step - loss: 1.5615 - accuracy: 0.4413 - val_loss: 1.5288 - val_accuracy: 0.4621\n",
      "Epoch 13/15\n",
      "391/391 [==============================] - 21s 54ms/step - loss: 1.5446 - accuracy: 0.4482 - val_loss: 1.5115 - val_accuracy: 0.4582\n",
      "Epoch 14/15\n",
      "391/391 [==============================] - 21s 54ms/step - loss: 1.5398 - accuracy: 0.4523 - val_loss: 1.4903 - val_accuracy: 0.4785\n",
      "Epoch 15/15\n",
      "391/391 [==============================] - 21s 54ms/step - loss: 1.5330 - accuracy: 0.4540 - val_loss: 1.4868 - val_accuracy: 0.4829\n",
      "Test loss: 1.4868073463439941\n",
      "Test accuracy: 0.4828999936580658\n"
     ]
    }
   ],
   "source": [
    "model = Sequential()\n",
    "model.add(Dense(512, activation='relu', input_shape=(3072,)))\n",
    "model.add(Dropout(0.2))\n",
    "model.add(Dense(512, activation='relu'))\n",
    "model.add(Dropout(0.2))\n",
    "model.add(Dense(num_classes, activation='softmax'))\n",
    "\n",
    "model.summary()\n",
    "\n",
    "model.compile(loss='categorical_crossentropy',\n",
    "              optimizer=RMSprop(),\n",
    "              metrics=['accuracy'])\n",
    "\n",
    "history = model.fit(x_train, y_train,\n",
    "                    batch_size=batch_size,\n",
    "                    epochs=epochs,\n",
    "                    verbose=1,\n",
    "                    validation_data=(x_test, y_test))\n",
    "score = model.evaluate(x_test, y_test, verbose=0)\n",
    "print('Test loss:', score[0])\n",
    "print('Test accuracy:', score[1])"
   ]
  },
  {
   "cell_type": "markdown",
   "metadata": {},
   "source": [
    "## 接下來我們使用 CNN 來訓練神經網路\n",
    "CNN 的原理非常適合處理影像類的資料，就讓我們來看看，同樣的訓練條件，CNN 是否顯著優於 DNN 呢?"
   ]
  },
  {
   "cell_type": "code",
   "execution_count": 5,
   "metadata": {},
   "outputs": [
    {
     "name": "stdout",
     "output_type": "stream",
     "text": [
      "x_train shape: (50000, 32, 32, 3)\n",
      "50000 train samples\n",
      "10000 test samples\n"
     ]
    }
   ],
   "source": [
    "(x_train, y_train), (x_test, y_test) = cifar10.load_data()\n",
    "print('x_train shape:', x_train.shape)\n",
    "print(x_train.shape[0], 'train samples')\n",
    "print(x_test.shape[0], 'test samples')\n",
    "x_train = x_train.astype('float32')\n",
    "x_test = x_test.astype('float32')\n",
    "x_train /= 255\n",
    "x_test /= 255\n",
    "\n",
    "# Convert class vectors to binary class matrices.\n",
    "y_train = keras.utils.to_categorical(y_train, num_classes)\n",
    "y_test = keras.utils.to_categorical(y_test, num_classes)"
   ]
  },
  {
   "cell_type": "code",
   "execution_count": 6,
   "metadata": {},
   "outputs": [
    {
     "name": "stdout",
     "output_type": "stream",
     "text": [
      "Model: \"sequential_1\"\n",
      "_________________________________________________________________\n",
      "Layer (type)                 Output Shape              Param #   \n",
      "=================================================================\n",
      "conv2d (Conv2D)              (None, 32, 32, 32)        896       \n",
      "_________________________________________________________________\n",
      "activation (Activation)      (None, 32, 32, 32)        0         \n",
      "_________________________________________________________________\n",
      "conv2d_1 (Conv2D)            (None, 30, 30, 32)        9248      \n",
      "_________________________________________________________________\n",
      "activation_1 (Activation)    (None, 30, 30, 32)        0         \n",
      "_________________________________________________________________\n",
      "max_pooling2d (MaxPooling2D) (None, 15, 15, 32)        0         \n",
      "_________________________________________________________________\n",
      "dropout_2 (Dropout)          (None, 15, 15, 32)        0         \n",
      "_________________________________________________________________\n",
      "conv2d_2 (Conv2D)            (None, 15, 15, 64)        18496     \n",
      "_________________________________________________________________\n",
      "activation_2 (Activation)    (None, 15, 15, 64)        0         \n",
      "_________________________________________________________________\n",
      "conv2d_3 (Conv2D)            (None, 13, 13, 64)        36928     \n",
      "_________________________________________________________________\n",
      "activation_3 (Activation)    (None, 13, 13, 64)        0         \n",
      "_________________________________________________________________\n",
      "max_pooling2d_1 (MaxPooling2 (None, 6, 6, 64)          0         \n",
      "_________________________________________________________________\n",
      "dropout_3 (Dropout)          (None, 6, 6, 64)          0         \n",
      "_________________________________________________________________\n",
      "flatten (Flatten)            (None, 2304)              0         \n",
      "_________________________________________________________________\n",
      "dense_3 (Dense)              (None, 512)               1180160   \n",
      "_________________________________________________________________\n",
      "activation_4 (Activation)    (None, 512)               0         \n",
      "_________________________________________________________________\n",
      "dropout_4 (Dropout)          (None, 512)               0         \n",
      "_________________________________________________________________\n",
      "dense_4 (Dense)              (None, 10)                5130      \n",
      "_________________________________________________________________\n",
      "activation_5 (Activation)    (None, 10)                0         \n",
      "=================================================================\n",
      "Total params: 1,250,858\n",
      "Trainable params: 1,250,858\n",
      "Non-trainable params: 0\n",
      "_________________________________________________________________\n",
      "Epoch 1/15\n",
      "391/391 [==============================] - 174s 445ms/step - loss: 1.7530 - accuracy: 0.3638 - val_loss: 1.3555 - val_accuracy: 0.5251\n",
      "Epoch 2/15\n",
      "391/391 [==============================] - 177s 453ms/step - loss: 1.3489 - accuracy: 0.5183 - val_loss: 1.2303 - val_accuracy: 0.5609\n",
      "Epoch 3/15\n",
      "391/391 [==============================] - 172s 441ms/step - loss: 1.1554 - accuracy: 0.5925 - val_loss: 0.9696 - val_accuracy: 0.6599\n",
      "Epoch 4/15\n",
      "391/391 [==============================] - 171s 438ms/step - loss: 1.0216 - accuracy: 0.6447 - val_loss: 1.0139 - val_accuracy: 0.6479\n",
      "Epoch 5/15\n",
      "391/391 [==============================] - 172s 440ms/step - loss: 0.9229 - accuracy: 0.6785 - val_loss: 0.8205 - val_accuracy: 0.7138\n",
      "Epoch 6/15\n",
      "391/391 [==============================] - 173s 442ms/step - loss: 0.8461 - accuracy: 0.7061 - val_loss: 0.8446 - val_accuracy: 0.6992\n",
      "Epoch 7/15\n",
      "391/391 [==============================] - 174s 446ms/step - loss: 0.7959 - accuracy: 0.7238 - val_loss: 0.7563 - val_accuracy: 0.7411\n",
      "Epoch 8/15\n",
      "391/391 [==============================] - 175s 448ms/step - loss: 0.7522 - accuracy: 0.7398 - val_loss: 0.7481 - val_accuracy: 0.7431\n",
      "Epoch 9/15\n",
      "391/391 [==============================] - 172s 439ms/step - loss: 0.7168 - accuracy: 0.7522 - val_loss: 0.6870 - val_accuracy: 0.7638\n",
      "Epoch 10/15\n",
      "391/391 [==============================] - 170s 435ms/step - loss: 0.6883 - accuracy: 0.7635 - val_loss: 0.7162 - val_accuracy: 0.7514\n",
      "Epoch 11/15\n",
      "391/391 [==============================] - 170s 436ms/step - loss: 0.6674 - accuracy: 0.7723 - val_loss: 0.7317 - val_accuracy: 0.7602\n",
      "Epoch 12/15\n",
      "391/391 [==============================] - 170s 434ms/step - loss: 0.6489 - accuracy: 0.7777 - val_loss: 0.7795 - val_accuracy: 0.7512\n",
      "Epoch 13/15\n",
      "391/391 [==============================] - 170s 435ms/step - loss: 0.6383 - accuracy: 0.7826 - val_loss: 0.7139 - val_accuracy: 0.7606\n",
      "Epoch 14/15\n",
      "391/391 [==============================] - 176s 450ms/step - loss: 0.6304 - accuracy: 0.7862 - val_loss: 0.7956 - val_accuracy: 0.7448\n",
      "Epoch 15/15\n",
      "391/391 [==============================] - 175s 449ms/step - loss: 0.6270 - accuracy: 0.7878 - val_loss: 0.7076 - val_accuracy: 0.7664\n",
      "Test loss: 0.7076210379600525\n",
      "Test accuracy: 0.7663999795913696\n"
     ]
    }
   ],
   "source": [
    "model = Sequential()\n",
    "model.add(Conv2D(32, (3, 3), padding='same',\n",
    "                 input_shape=x_train.shape[1:]))\n",
    "model.add(Activation('relu'))\n",
    "model.add(Conv2D(32, (3, 3)))\n",
    "model.add(Activation('relu'))\n",
    "model.add(MaxPooling2D(pool_size=(2, 2)))\n",
    "model.add(Dropout(0.25))\n",
    "\n",
    "model.add(Conv2D(64, (3, 3), padding='same'))\n",
    "model.add(Activation('relu'))\n",
    "model.add(Conv2D(64, (3, 3)))\n",
    "model.add(Activation('relu'))\n",
    "model.add(MaxPooling2D(pool_size=(2, 2)))\n",
    "model.add(Dropout(0.25))\n",
    "\n",
    "model.add(Flatten())\n",
    "model.add(Dense(512))\n",
    "model.add(Activation('relu'))\n",
    "model.add(Dropout(0.5))\n",
    "model.add(Dense(num_classes))\n",
    "model.add(Activation('softmax'))\n",
    "model.summary()\n",
    "\n",
    "model.compile(loss='categorical_crossentropy',\n",
    "              optimizer=RMSprop(),\n",
    "              metrics=['accuracy'])\n",
    "\n",
    "history = model.fit(x_train, y_train,\n",
    "                    batch_size=batch_size,\n",
    "                    epochs=epochs,\n",
    "                    verbose=1,\n",
    "                    validation_data=(x_test, y_test))\n",
    "score = model.evaluate(x_test, y_test, verbose=0)\n",
    "print('Test loss:', score[0])\n",
    "print('Test accuracy:', score[1])"
   ]
  },
  {
   "cell_type": "markdown",
   "metadata": {},
   "source": [
    "## 同樣運算 10 個 epochs，但 CNN 在 test data 的準確率顯著優於 DNN!"
   ]
  },
  {
   "cell_type": "markdown",
   "metadata": {},
   "source": [
    "## 作業\n",
    "1. 請試著調整各個超參數，並說明那些超參數對於結果有明顯的影響?\n",
    "2. CNN 與 DNN 哪個模型的參數數量比較多? 造成參數的數量不同的原因在哪?"
   ]
  },
  {
   "cell_type": "markdown",
   "metadata": {},
   "source": [
    "1.Conv2D 的層數與優化器的選擇對結果有顯著的影響\n",
    "2.DNN參數較多，CNN有權值共享，可減少參數"
   ]
  }
 ],
 "metadata": {
  "kernelspec": {
   "display_name": "Python 3",
   "language": "python",
   "name": "python3"
  },
  "language_info": {
   "codemirror_mode": {
    "name": "ipython",
    "version": 3
   },
   "file_extension": ".py",
   "mimetype": "text/x-python",
   "name": "python",
   "nbconvert_exporter": "python",
   "pygments_lexer": "ipython3",
   "version": "3.7.6"
  }
 },
 "nbformat": 4,
 "nbformat_minor": 2
}
