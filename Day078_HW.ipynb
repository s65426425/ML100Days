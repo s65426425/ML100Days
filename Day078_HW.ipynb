{
 "cells": [
  {
   "cell_type": "markdown",
   "metadata": {},
   "source": [
    "## Work\n",
    "1. 請嘗試將 preproc_x 替換成以每筆資料的 min/max 進行標準化至 -1 ~ 1 間，再進行訓練\n",
    "2. 請嘗試將 mlp 疊更深 (e.g 5~10 層)，進行訓練後觀察 learning curve 的走勢\n",
    "3. (optional) 請改用 GPU 進行訓練 (如果你有 GPU 的話)，比較使用 CPU 與 GPU 的訓練速度"
   ]
  },
  {
   "cell_type": "code",
   "execution_count": 1,
   "metadata": {},
   "outputs": [
    {
     "name": "stderr",
     "output_type": "stream",
     "text": [
      "'nvidia-smi' 不是內部或外部命令、可執行的程式或批次檔。\n"
     ]
    }
   ],
   "source": [
    "## \n",
    "\"\"\"\n",
    "Your code here (optional)\n",
    "確認硬體資源\n",
    "\"\"\"\n",
    "!nvidia-smi"
   ]
  },
  {
   "cell_type": "code",
   "execution_count": 2,
   "metadata": {},
   "outputs": [],
   "source": [
    "import os\n",
    "import keras\n",
    "\n",
    "# 請嘗試設定 GPU：os.environ\n"
   ]
  },
  {
   "cell_type": "code",
   "execution_count": 3,
   "metadata": {},
   "outputs": [],
   "source": [
    "train, test = keras.datasets.cifar10.load_data()"
   ]
  },
  {
   "cell_type": "code",
   "execution_count": 4,
   "metadata": {},
   "outputs": [],
   "source": [
    "## 資料前處理\n",
    "\"\"\"\n",
    "Your code here\n",
    "\"\"\"\n",
    "def preproc_x(x, flatten=True):\n",
    "    x = 2 * (x / 255) -1.\n",
    "    if flatten:\n",
    "        x = x.reshape((len(x), -1))\n",
    "    return x\n",
    "\n",
    "def preproc_y(y, num_classes=10):\n",
    "    if y.shape[-1] == 1:\n",
    "        y = keras.utils.to_categorical(y, num_classes)\n",
    "    return y"
   ]
  },
  {
   "cell_type": "code",
   "execution_count": 5,
   "metadata": {},
   "outputs": [],
   "source": [
    "x_train, y_train = train\n",
    "x_test, y_test = test\n",
    "\n",
    "# Preproc the inputs\n",
    "x_train = preproc_x(x_train)\n",
    "x_test = preproc_x(x_test)\n",
    "\n",
    "# Preprc the outputs\n",
    "y_train = preproc_y(y_train)\n",
    "y_test = preproc_y(y_test)"
   ]
  },
  {
   "cell_type": "code",
   "execution_count": 6,
   "metadata": {},
   "outputs": [],
   "source": [
    "\"\"\"Code Here\n",
    "建立你的神經網路\n",
    "\"\"\"\n",
    "def build_mlp(input_shape, output_units=10, num_neurons=[512, 256, 128, 128, 128]):\n",
    "    input_layer = keras.layers.Input(input_shape)\n",
    "    \n",
    "    for i, n_units in enumerate(num_neurons):\n",
    "        if i == 0:\n",
    "            x = keras.layers.Dense(units=n_units, activation=\"relu\", name=\"hidden_layer\"+str(i+1))(input_layer)\n",
    "        else:\n",
    "            x = keras.layers.Dense(units=n_units, activation=\"relu\", name=\"hidden_layer\"+str(i+1))(x)\n",
    "    \n",
    "    out = keras.layers.Dense(units=output_units, activation=\"softmax\", name=\"output\")(x)\n",
    "    \n",
    "    model = keras.models.Model(inputs=[input_layer], outputs=[out])\n",
    "    return model"
   ]
  },
  {
   "cell_type": "code",
   "execution_count": 7,
   "metadata": {},
   "outputs": [
    {
     "name": "stdout",
     "output_type": "stream",
     "text": [
      "Model: \"functional_1\"\n",
      "_________________________________________________________________\n",
      "Layer (type)                 Output Shape              Param #   \n",
      "=================================================================\n",
      "input_1 (InputLayer)         [(None, 3072)]            0         \n",
      "_________________________________________________________________\n",
      "hidden_layer1 (Dense)        (None, 512)               1573376   \n",
      "_________________________________________________________________\n",
      "hidden_layer2 (Dense)        (None, 256)               131328    \n",
      "_________________________________________________________________\n",
      "hidden_layer3 (Dense)        (None, 128)               32896     \n",
      "_________________________________________________________________\n",
      "hidden_layer4 (Dense)        (None, 128)               16512     \n",
      "_________________________________________________________________\n",
      "hidden_layer5 (Dense)        (None, 128)               16512     \n",
      "_________________________________________________________________\n",
      "output (Dense)               (None, 10)                1290      \n",
      "=================================================================\n",
      "Total params: 1,771,914\n",
      "Trainable params: 1,771,914\n",
      "Non-trainable params: 0\n",
      "_________________________________________________________________\n"
     ]
    }
   ],
   "source": [
    "model = build_mlp(input_shape=x_train.shape[1:])\n",
    "model.summary()"
   ]
  },
  {
   "cell_type": "code",
   "execution_count": 8,
   "metadata": {},
   "outputs": [],
   "source": [
    "## 超參數設定\n",
    "LEARNING_RATE = 0.001\n",
    "EPOCHS = 100\n",
    "BATCH_SIZE = 256"
   ]
  },
  {
   "cell_type": "code",
   "execution_count": 9,
   "metadata": {},
   "outputs": [],
   "source": [
    "optimizer = keras.optimizers.Adam(lr=LEARNING_RATE)\n",
    "model.compile(loss=\"categorical_crossentropy\", metrics=[\"accuracy\"], optimizer=optimizer)"
   ]
  },
  {
   "cell_type": "code",
   "execution_count": 10,
   "metadata": {},
   "outputs": [
    {
     "name": "stdout",
     "output_type": "stream",
     "text": [
      "Epoch 1/100\n",
      "196/196 [==============================] - 8s 41ms/step - loss: 1.6829 - accuracy: 0.4010 - val_loss: 1.5394 - val_accuracy: 0.4607\n",
      "Epoch 2/100\n",
      "196/196 [==============================] - 7s 34ms/step - loss: 1.4628 - accuracy: 0.4834 - val_loss: 1.4546 - val_accuracy: 0.4841\n",
      "Epoch 3/100\n",
      "196/196 [==============================] - 7s 35ms/step - loss: 1.3437 - accuracy: 0.5263 - val_loss: 1.4033 - val_accuracy: 0.5105\n",
      "Epoch 4/100\n",
      "196/196 [==============================] - 7s 35ms/step - loss: 1.2446 - accuracy: 0.5603 - val_loss: 1.3833 - val_accuracy: 0.5174\n",
      "Epoch 5/100\n",
      "196/196 [==============================] - 7s 35ms/step - loss: 1.1627 - accuracy: 0.5880 - val_loss: 1.3684 - val_accuracy: 0.5243\n",
      "Epoch 6/100\n",
      "196/196 [==============================] - 7s 35ms/step - loss: 1.0876 - accuracy: 0.6152 - val_loss: 1.3556 - val_accuracy: 0.5300\n",
      "Epoch 7/100\n",
      "196/196 [==============================] - 7s 37ms/step - loss: 1.0118 - accuracy: 0.6433 - val_loss: 1.4245 - val_accuracy: 0.5299\n",
      "Epoch 8/100\n",
      "196/196 [==============================] - 8s 39ms/step - loss: 0.9389 - accuracy: 0.6660 - val_loss: 1.4216 - val_accuracy: 0.5352\n",
      "Epoch 9/100\n",
      "196/196 [==============================] - 7s 37ms/step - loss: 0.8762 - accuracy: 0.6885 - val_loss: 1.4556 - val_accuracy: 0.5348\n",
      "Epoch 10/100\n",
      "196/196 [==============================] - 7s 37ms/step - loss: 0.8079 - accuracy: 0.7133 - val_loss: 1.4968 - val_accuracy: 0.5404\n",
      "Epoch 11/100\n",
      "196/196 [==============================] - 7s 37ms/step - loss: 0.7384 - accuracy: 0.7365 - val_loss: 1.5541 - val_accuracy: 0.5406\n",
      "Epoch 12/100\n",
      "196/196 [==============================] - 7s 37ms/step - loss: 0.6790 - accuracy: 0.7571 - val_loss: 1.6209 - val_accuracy: 0.5310\n",
      "Epoch 13/100\n",
      "196/196 [==============================] - 7s 37ms/step - loss: 0.6285 - accuracy: 0.7750 - val_loss: 1.6489 - val_accuracy: 0.5374\n",
      "Epoch 14/100\n",
      "196/196 [==============================] - 7s 38ms/step - loss: 0.5688 - accuracy: 0.7968 - val_loss: 1.7921 - val_accuracy: 0.5298\n",
      "Epoch 15/100\n",
      "196/196 [==============================] - 7s 38ms/step - loss: 0.5258 - accuracy: 0.8144 - val_loss: 1.7949 - val_accuracy: 0.5356\n",
      "Epoch 16/100\n",
      "196/196 [==============================] - 7s 37ms/step - loss: 0.4855 - accuracy: 0.8274 - val_loss: 1.8962 - val_accuracy: 0.5345\n",
      "Epoch 17/100\n",
      "196/196 [==============================] - 7s 38ms/step - loss: 0.4368 - accuracy: 0.8450 - val_loss: 1.9573 - val_accuracy: 0.5341\n",
      "Epoch 18/100\n",
      "196/196 [==============================] - 7s 37ms/step - loss: 0.4107 - accuracy: 0.8538 - val_loss: 1.9813 - val_accuracy: 0.5321\n",
      "Epoch 19/100\n",
      "196/196 [==============================] - 7s 38ms/step - loss: 0.3815 - accuracy: 0.8654 - val_loss: 2.1400 - val_accuracy: 0.5323\n",
      "Epoch 20/100\n",
      "196/196 [==============================] - 7s 37ms/step - loss: 0.3558 - accuracy: 0.8739 - val_loss: 2.2069 - val_accuracy: 0.5338\n",
      "Epoch 21/100\n",
      "196/196 [==============================] - 7s 37ms/step - loss: 0.3278 - accuracy: 0.8843 - val_loss: 2.2744 - val_accuracy: 0.5225\n",
      "Epoch 22/100\n",
      "196/196 [==============================] - 8s 38ms/step - loss: 0.3076 - accuracy: 0.8917 - val_loss: 2.4075 - val_accuracy: 0.5314\n",
      "Epoch 23/100\n",
      "196/196 [==============================] - 7s 37ms/step - loss: 0.2830 - accuracy: 0.8998 - val_loss: 2.5711 - val_accuracy: 0.5386\n",
      "Epoch 24/100\n",
      "196/196 [==============================] - 7s 38ms/step - loss: 0.2669 - accuracy: 0.9045 - val_loss: 2.6477 - val_accuracy: 0.5323\n",
      "Epoch 25/100\n",
      "196/196 [==============================] - 7s 37ms/step - loss: 0.2659 - accuracy: 0.9060 - val_loss: 2.8435 - val_accuracy: 0.5314\n",
      "Epoch 26/100\n",
      "196/196 [==============================] - 7s 38ms/step - loss: 0.2419 - accuracy: 0.9154 - val_loss: 2.6513 - val_accuracy: 0.5332\n",
      "Epoch 27/100\n",
      "196/196 [==============================] - 7s 37ms/step - loss: 0.2319 - accuracy: 0.9182 - val_loss: 2.7406 - val_accuracy: 0.5323\n",
      "Epoch 28/100\n",
      "196/196 [==============================] - 7s 37ms/step - loss: 0.2113 - accuracy: 0.9261 - val_loss: 2.8714 - val_accuracy: 0.5332\n",
      "Epoch 29/100\n",
      "196/196 [==============================] - 7s 37ms/step - loss: 0.2235 - accuracy: 0.9224 - val_loss: 2.9640 - val_accuracy: 0.5326\n",
      "Epoch 30/100\n",
      "196/196 [==============================] - 7s 37ms/step - loss: 0.1985 - accuracy: 0.9310 - val_loss: 3.1761 - val_accuracy: 0.5291\n",
      "Epoch 31/100\n",
      "196/196 [==============================] - 7s 37ms/step - loss: 0.1946 - accuracy: 0.9320 - val_loss: 3.2197 - val_accuracy: 0.5265\n",
      "Epoch 32/100\n",
      "196/196 [==============================] - 7s 37ms/step - loss: 0.2002 - accuracy: 0.9305 - val_loss: 3.0689 - val_accuracy: 0.5315\n",
      "Epoch 33/100\n",
      "196/196 [==============================] - 7s 37ms/step - loss: 0.1879 - accuracy: 0.9360 - val_loss: 3.2193 - val_accuracy: 0.5254\n",
      "Epoch 34/100\n",
      "196/196 [==============================] - 7s 38ms/step - loss: 0.1810 - accuracy: 0.9387 - val_loss: 3.1823 - val_accuracy: 0.5255\n",
      "Epoch 35/100\n",
      "196/196 [==============================] - 8s 38ms/step - loss: 0.1632 - accuracy: 0.9447 - val_loss: 3.4001 - val_accuracy: 0.5287\n",
      "Epoch 36/100\n",
      "196/196 [==============================] - 7s 37ms/step - loss: 0.1542 - accuracy: 0.9475 - val_loss: 3.2775 - val_accuracy: 0.5296\n",
      "Epoch 37/100\n",
      "196/196 [==============================] - 7s 37ms/step - loss: 0.1628 - accuracy: 0.9442 - val_loss: 3.2783 - val_accuracy: 0.5334\n",
      "Epoch 38/100\n",
      "196/196 [==============================] - 7s 37ms/step - loss: 0.1620 - accuracy: 0.9452 - val_loss: 3.4566 - val_accuracy: 0.5272\n",
      "Epoch 39/100\n",
      "196/196 [==============================] - 7s 37ms/step - loss: 0.1495 - accuracy: 0.9490 - val_loss: 3.4448 - val_accuracy: 0.5335\n",
      "Epoch 40/100\n",
      "196/196 [==============================] - 7s 38ms/step - loss: 0.1440 - accuracy: 0.9520 - val_loss: 3.5797 - val_accuracy: 0.5294\n",
      "Epoch 41/100\n",
      "196/196 [==============================] - 7s 38ms/step - loss: 0.1478 - accuracy: 0.9485 - val_loss: 3.4867 - val_accuracy: 0.5324\n",
      "Epoch 42/100\n",
      "196/196 [==============================] - 7s 37ms/step - loss: 0.1468 - accuracy: 0.9498 - val_loss: 3.5030 - val_accuracy: 0.5228\n",
      "Epoch 43/100\n",
      "196/196 [==============================] - 7s 37ms/step - loss: 0.1280 - accuracy: 0.9559 - val_loss: 3.6244 - val_accuracy: 0.5343\n",
      "Epoch 44/100\n",
      "196/196 [==============================] - 7s 37ms/step - loss: 0.1399 - accuracy: 0.9527 - val_loss: 3.6645 - val_accuracy: 0.5249\n",
      "Epoch 45/100\n",
      "196/196 [==============================] - 7s 37ms/step - loss: 0.1313 - accuracy: 0.9546 - val_loss: 3.6399 - val_accuracy: 0.5299\n",
      "Epoch 46/100\n",
      "196/196 [==============================] - 7s 37ms/step - loss: 0.1335 - accuracy: 0.9555 - val_loss: 3.4875 - val_accuracy: 0.5337\n",
      "Epoch 47/100\n",
      "196/196 [==============================] - 7s 37ms/step - loss: 0.1320 - accuracy: 0.9551 - val_loss: 3.6032 - val_accuracy: 0.5315\n",
      "Epoch 48/100\n",
      "196/196 [==============================] - 7s 37ms/step - loss: 0.1159 - accuracy: 0.9604 - val_loss: 3.5977 - val_accuracy: 0.5265\n",
      "Epoch 49/100\n",
      "196/196 [==============================] - 8s 39ms/step - loss: 0.1366 - accuracy: 0.9550 - val_loss: 3.4909 - val_accuracy: 0.5328\n",
      "Epoch 50/100\n",
      "196/196 [==============================] - 8s 39ms/step - loss: 0.1154 - accuracy: 0.9617 - val_loss: 3.8458 - val_accuracy: 0.5270\n",
      "Epoch 51/100\n",
      "196/196 [==============================] - 8s 41ms/step - loss: 0.1291 - accuracy: 0.9564 - val_loss: 3.7424 - val_accuracy: 0.5274\n",
      "Epoch 52/100\n",
      "196/196 [==============================] - 8s 39ms/step - loss: 0.1172 - accuracy: 0.9606 - val_loss: 3.7758 - val_accuracy: 0.5380\n",
      "Epoch 53/100\n",
      "196/196 [==============================] - 7s 38ms/step - loss: 0.1156 - accuracy: 0.9607 - val_loss: 3.8309 - val_accuracy: 0.5330\n",
      "Epoch 54/100\n",
      "196/196 [==============================] - 8s 39ms/step - loss: 0.1177 - accuracy: 0.9611 - val_loss: 3.9237 - val_accuracy: 0.5249\n",
      "Epoch 55/100\n",
      "196/196 [==============================] - 8s 38ms/step - loss: 0.0968 - accuracy: 0.9683 - val_loss: 3.8108 - val_accuracy: 0.5276\n",
      "Epoch 56/100\n",
      "196/196 [==============================] - 8s 39ms/step - loss: 0.1124 - accuracy: 0.9633 - val_loss: 3.9841 - val_accuracy: 0.5249\n",
      "Epoch 57/100\n"
     ]
    },
    {
     "name": "stdout",
     "output_type": "stream",
     "text": [
      "196/196 [==============================] - 7s 38ms/step - loss: 0.1272 - accuracy: 0.9577 - val_loss: 3.7394 - val_accuracy: 0.5301\n",
      "Epoch 58/100\n",
      "196/196 [==============================] - 8s 38ms/step - loss: 0.1096 - accuracy: 0.9637 - val_loss: 4.1361 - val_accuracy: 0.5244\n",
      "Epoch 59/100\n",
      "196/196 [==============================] - 7s 37ms/step - loss: 0.1009 - accuracy: 0.9667 - val_loss: 3.8989 - val_accuracy: 0.5348\n",
      "Epoch 60/100\n",
      "196/196 [==============================] - 7s 37ms/step - loss: 0.1072 - accuracy: 0.9648 - val_loss: 3.8781 - val_accuracy: 0.5268\n",
      "Epoch 61/100\n",
      "196/196 [==============================] - 8s 39ms/step - loss: 0.0757 - accuracy: 0.9754 - val_loss: 4.1179 - val_accuracy: 0.5213\n",
      "Epoch 62/100\n",
      "196/196 [==============================] - 8s 39ms/step - loss: 0.1004 - accuracy: 0.9666 - val_loss: 3.9562 - val_accuracy: 0.5302\n",
      "Epoch 63/100\n",
      "196/196 [==============================] - 7s 38ms/step - loss: 0.0917 - accuracy: 0.9696 - val_loss: 4.1243 - val_accuracy: 0.5274\n",
      "Epoch 64/100\n",
      "196/196 [==============================] - 7s 37ms/step - loss: 0.1170 - accuracy: 0.9606 - val_loss: 4.0625 - val_accuracy: 0.5266\n",
      "Epoch 65/100\n",
      "196/196 [==============================] - 7s 37ms/step - loss: 0.0910 - accuracy: 0.9699 - val_loss: 3.9908 - val_accuracy: 0.5339\n",
      "Epoch 66/100\n",
      "196/196 [==============================] - 7s 37ms/step - loss: 0.1049 - accuracy: 0.9659 - val_loss: 3.7920 - val_accuracy: 0.5284\n",
      "Epoch 67/100\n",
      "196/196 [==============================] - 7s 37ms/step - loss: 0.0970 - accuracy: 0.9674 - val_loss: 4.0118 - val_accuracy: 0.5295\n",
      "Epoch 68/100\n",
      "196/196 [==============================] - 7s 36ms/step - loss: 0.0754 - accuracy: 0.9742 - val_loss: 4.2367 - val_accuracy: 0.5242\n",
      "Epoch 69/100\n",
      "196/196 [==============================] - 7s 37ms/step - loss: 0.1011 - accuracy: 0.9677 - val_loss: 3.9845 - val_accuracy: 0.5225\n",
      "Epoch 70/100\n",
      "196/196 [==============================] - 7s 37ms/step - loss: 0.1007 - accuracy: 0.9670 - val_loss: 3.9118 - val_accuracy: 0.5314\n",
      "Epoch 71/100\n",
      "196/196 [==============================] - 7s 37ms/step - loss: 0.0827 - accuracy: 0.9732 - val_loss: 4.1651 - val_accuracy: 0.5270\n",
      "Epoch 72/100\n",
      "196/196 [==============================] - 7s 37ms/step - loss: 0.0923 - accuracy: 0.9703 - val_loss: 4.0491 - val_accuracy: 0.5335\n",
      "Epoch 73/100\n",
      "196/196 [==============================] - 7s 37ms/step - loss: 0.0685 - accuracy: 0.9775 - val_loss: 4.5020 - val_accuracy: 0.5295\n",
      "Epoch 74/100\n",
      "196/196 [==============================] - 7s 37ms/step - loss: 0.1043 - accuracy: 0.9669 - val_loss: 3.9946 - val_accuracy: 0.5316\n",
      "Epoch 75/100\n",
      "196/196 [==============================] - 7s 37ms/step - loss: 0.0913 - accuracy: 0.9705 - val_loss: 3.9226 - val_accuracy: 0.5289\n",
      "Epoch 76/100\n",
      "196/196 [==============================] - 7s 37ms/step - loss: 0.0720 - accuracy: 0.9769 - val_loss: 4.3286 - val_accuracy: 0.5276\n",
      "Epoch 77/100\n",
      "196/196 [==============================] - 7s 37ms/step - loss: 0.0771 - accuracy: 0.9755 - val_loss: 4.1882 - val_accuracy: 0.5336\n",
      "Epoch 78/100\n",
      "196/196 [==============================] - 7s 38ms/step - loss: 0.0902 - accuracy: 0.9707 - val_loss: 4.3234 - val_accuracy: 0.5251\n",
      "Epoch 79/100\n",
      "196/196 [==============================] - 7s 37ms/step - loss: 0.0856 - accuracy: 0.9723 - val_loss: 4.0529 - val_accuracy: 0.5318\n",
      "Epoch 80/100\n",
      "196/196 [==============================] - 7s 37ms/step - loss: 0.0715 - accuracy: 0.9759 - val_loss: 4.2147 - val_accuracy: 0.5315\n",
      "Epoch 81/100\n",
      "196/196 [==============================] - 7s 37ms/step - loss: 0.0935 - accuracy: 0.9704 - val_loss: 4.2357 - val_accuracy: 0.5337\n",
      "Epoch 82/100\n",
      "196/196 [==============================] - 7s 37ms/step - loss: 0.0898 - accuracy: 0.9707 - val_loss: 4.1483 - val_accuracy: 0.5253\n",
      "Epoch 83/100\n",
      "196/196 [==============================] - 7s 37ms/step - loss: 0.0806 - accuracy: 0.9745 - val_loss: 4.1338 - val_accuracy: 0.5338\n",
      "Epoch 84/100\n",
      "196/196 [==============================] - 7s 38ms/step - loss: 0.0609 - accuracy: 0.9802 - val_loss: 4.3082 - val_accuracy: 0.5260\n",
      "Epoch 85/100\n",
      "196/196 [==============================] - 7s 37ms/step - loss: 0.0796 - accuracy: 0.9747 - val_loss: 4.3152 - val_accuracy: 0.5267\n",
      "Epoch 86/100\n",
      "196/196 [==============================] - 7s 37ms/step - loss: 0.0939 - accuracy: 0.9700 - val_loss: 4.2607 - val_accuracy: 0.5278\n",
      "Epoch 87/100\n",
      "196/196 [==============================] - 7s 37ms/step - loss: 0.0823 - accuracy: 0.9741 - val_loss: 3.9871 - val_accuracy: 0.5211\n",
      "Epoch 88/100\n",
      "196/196 [==============================] - 7s 37ms/step - loss: 0.0705 - accuracy: 0.9768 - val_loss: 4.3094 - val_accuracy: 0.5330\n",
      "Epoch 89/100\n",
      "196/196 [==============================] - 7s 37ms/step - loss: 0.0849 - accuracy: 0.9740 - val_loss: 4.3578 - val_accuracy: 0.5313\n",
      "Epoch 90/100\n",
      "196/196 [==============================] - 7s 37ms/step - loss: 0.0721 - accuracy: 0.9774 - val_loss: 4.2892 - val_accuracy: 0.5295\n",
      "Epoch 91/100\n",
      "196/196 [==============================] - 7s 38ms/step - loss: 0.0739 - accuracy: 0.9767 - val_loss: 4.4801 - val_accuracy: 0.5269\n",
      "Epoch 92/100\n",
      "196/196 [==============================] - 7s 37ms/step - loss: 0.0821 - accuracy: 0.9732 - val_loss: 4.1627 - val_accuracy: 0.5266\n",
      "Epoch 93/100\n",
      "196/196 [==============================] - 7s 37ms/step - loss: 0.0602 - accuracy: 0.9811 - val_loss: 4.5044 - val_accuracy: 0.5350\n",
      "Epoch 94/100\n",
      "196/196 [==============================] - 7s 36ms/step - loss: 0.0761 - accuracy: 0.9748 - val_loss: 4.2378 - val_accuracy: 0.5369\n",
      "Epoch 95/100\n",
      "196/196 [==============================] - 7s 37ms/step - loss: 0.0705 - accuracy: 0.9770 - val_loss: 4.2438 - val_accuracy: 0.5334\n",
      "Epoch 96/100\n",
      "196/196 [==============================] - 7s 37ms/step - loss: 0.0717 - accuracy: 0.9771 - val_loss: 4.1893 - val_accuracy: 0.5280\n",
      "Epoch 97/100\n",
      "196/196 [==============================] - 7s 36ms/step - loss: 0.0710 - accuracy: 0.9764 - val_loss: 4.2616 - val_accuracy: 0.5267\n",
      "Epoch 98/100\n",
      "196/196 [==============================] - 7s 36ms/step - loss: 0.0645 - accuracy: 0.9793 - val_loss: 4.3598 - val_accuracy: 0.5379\n",
      "Epoch 99/100\n",
      "196/196 [==============================] - 7s 37ms/step - loss: 0.0613 - accuracy: 0.9805 - val_loss: 4.3979 - val_accuracy: 0.5304\n",
      "Epoch 100/100\n",
      "196/196 [==============================] - 7s 37ms/step - loss: 0.0738 - accuracy: 0.9760 - val_loss: 4.2969 - val_accuracy: 0.5325\n"
     ]
    },
    {
     "data": {
      "text/plain": [
       "<tensorflow.python.keras.callbacks.History at 0x29960d4a848>"
      ]
     },
     "execution_count": 10,
     "metadata": {},
     "output_type": "execute_result"
    }
   ],
   "source": [
    "model.fit(x_train, y_train, \n",
    "          epochs=EPOCHS, \n",
    "          batch_size=BATCH_SIZE, \n",
    "          validation_data=(x_test, y_test), \n",
    "          shuffle=True)"
   ]
  },
  {
   "cell_type": "code",
   "execution_count": 11,
   "metadata": {},
   "outputs": [
    {
     "data": {
      "image/png": "[encoded data removed]",
      "text/plain": [
       "<Figure size 432x288 with 1 Axes>"
      ]
     },
     "metadata": {
      "needs_background": "light"
     },
     "output_type": "display_data"
    },
    {
     "data": {
      "image/png": "[encoded data removed]",
      "text/plain": [
       "<Figure size 432x288 with 1 Axes>"
      ]
     },
     "metadata": {
      "needs_background": "light"
     },
     "output_type": "display_data"
    }
   ],
   "source": [
    "import matplotlib.pyplot as plt\n",
    "\n",
    "\n",
    "train_loss = model.history.history[\"loss\"]\n",
    "valid_loss = model.history.history[\"val_loss\"]\n",
    "\n",
    "train_acc = model.history.history[\"accuracy\"]\n",
    "valid_acc = model.history.history[\"val_accuracy\"]\n",
    "\n",
    "plt.plot(range(len(train_loss)), train_loss, label=\"train loss\")\n",
    "plt.plot(range(len(valid_loss)), valid_loss, label=\"valid loss\")\n",
    "plt.legend()\n",
    "plt.title(\"Loss\")\n",
    "plt.show()\n",
    "\n",
    "plt.plot(range(len(train_acc)), train_acc, label=\"train accuracy\")\n",
    "plt.plot(range(len(valid_acc)), valid_acc, label=\"valid accuracy\")\n",
    "plt.legend()\n",
    "plt.title(\"Accuracy\")\n",
    "plt.show()"
   ]
  }
 ],
 "metadata": {
  "kernelspec": {
   "display_name": "Python 3",
   "language": "python",
   "name": "python3"
  },
  "language_info": {
   "codemirror_mode": {
    "name": "ipython",
    "version": 3
   },
   "file_extension": ".py",
   "mimetype": "text/x-python",
   "name": "python",
   "nbconvert_exporter": "python",
   "pygments_lexer": "ipython3",
   "version": "3.7.6"
  }
 },
 "nbformat": 4,
 "nbformat_minor": 2
}
